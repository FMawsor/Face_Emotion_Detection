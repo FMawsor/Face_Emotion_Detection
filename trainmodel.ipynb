{
 "cells": [
  {
   "cell_type": "code",
   "execution_count": 1,
   "id": "19ce7749",
   "metadata": {},
   "outputs": [],
   "source": [
    "import tensorflow\n",
    "import keras\n",
    "from keras.utils import to_categorical\n",
    "from keras.utils import load_img\n",
    "from keras.models import Sequential\n",
    "from keras.layers import Dense, Conv2D, Dropout, Flatten, MaxPooling2D\n",
    "import os\n",
    "import pandas as pd\n",
    "import numpy as np"
   ]
  },
  {
   "cell_type": "code",
   "execution_count": 2,
   "id": "02e9c221",
   "metadata": {},
   "outputs": [],
   "source": [
    "TRAIN_DIR = 'images/train'\n",
    "TEST_DIR = 'images/test'"
   ]
  },
  {
   "cell_type": "code",
   "execution_count": 3,
   "id": "ede9c1f1",
   "metadata": {},
   "outputs": [],
   "source": [
    "def createdataframe(dir):\n",
    "    image_paths = []\n",
    "    labels = []\n",
    "    for label in os.listdir(dir):\n",
    "        for imagename in os.listdir(os.path.join(dir,label)):\n",
    "            image_paths.append(os.path.join(dir,label,imagename))\n",
    "            labels.append(label)\n",
    "        print(label, \"completed\")\n",
    "    return image_paths,labels\n"
   ]
  },
  {
   "cell_type": "code",
   "execution_count": 4,
   "id": "a3a8f1a9",
   "metadata": {},
   "outputs": [
    {
     "name": "stdout",
     "output_type": "stream",
     "text": [
      "angry completed\n",
      "disgust completed\n",
      "fear completed\n",
      "happy completed\n",
      "neutral completed\n",
      "sad completed\n",
      "surprise completed\n"
     ]
    }
   ],
   "source": [
    "train = pd.DataFrame()\n",
    "train['image'], train['label'] = createdataframe(TRAIN_DIR)"
   ]
  },
  {
   "cell_type": "code",
   "execution_count": 5,
   "id": "c8a0cd29",
   "metadata": {},
   "outputs": [
    {
     "name": "stdout",
     "output_type": "stream",
     "text": [
      "                                image     label\n",
      "0            images/train\\angry\\0.jpg     angry\n",
      "1            images/train\\angry\\1.jpg     angry\n",
      "2           images/train\\angry\\10.jpg     angry\n",
      "3        images/train\\angry\\10002.jpg     angry\n",
      "4        images/train\\angry\\10016.jpg     angry\n",
      "...                               ...       ...\n",
      "28816  images/train\\surprise\\9969.jpg  surprise\n",
      "28817  images/train\\surprise\\9985.jpg  surprise\n",
      "28818  images/train\\surprise\\9990.jpg  surprise\n",
      "28819  images/train\\surprise\\9992.jpg  surprise\n",
      "28820  images/train\\surprise\\9996.jpg  surprise\n",
      "\n",
      "[28821 rows x 2 columns]\n"
     ]
    }
   ],
   "source": [
    "print(train)"
   ]
  },
  {
   "cell_type": "code",
   "execution_count": 6,
   "id": "7f9688fc",
   "metadata": {},
   "outputs": [
    {
     "name": "stdout",
     "output_type": "stream",
     "text": [
      "angry completed\n",
      "disgust completed\n",
      "fear completed\n",
      "happy completed\n",
      "neutral completed\n",
      "sad completed\n",
      "surprise completed\n"
     ]
    }
   ],
   "source": [
    "test = pd.DataFrame()\n",
    "test['image'], test['label'] = createdataframe(TEST_DIR)"
   ]
  },
  {
   "cell_type": "code",
   "execution_count": 7,
   "id": "7f504f5d",
   "metadata": {},
   "outputs": [
    {
     "name": "stdout",
     "output_type": "stream",
     "text": [
      "                              image     label\n",
      "0       images/test\\angry\\10052.jpg     angry\n",
      "1       images/test\\angry\\10065.jpg     angry\n",
      "2       images/test\\angry\\10079.jpg     angry\n",
      "3       images/test\\angry\\10095.jpg     angry\n",
      "4       images/test\\angry\\10121.jpg     angry\n",
      "...                             ...       ...\n",
      "7061  images/test\\surprise\\9806.jpg  surprise\n",
      "7062  images/test\\surprise\\9830.jpg  surprise\n",
      "7063  images/test\\surprise\\9853.jpg  surprise\n",
      "7064  images/test\\surprise\\9878.jpg  surprise\n",
      "7065   images/test\\surprise\\993.jpg  surprise\n",
      "\n",
      "[7066 rows x 2 columns]\n",
      "0         images/test\\angry\\10052.jpg\n",
      "1         images/test\\angry\\10065.jpg\n",
      "2         images/test\\angry\\10079.jpg\n",
      "3         images/test\\angry\\10095.jpg\n",
      "4         images/test\\angry\\10121.jpg\n",
      "                    ...              \n",
      "7061    images/test\\surprise\\9806.jpg\n",
      "7062    images/test\\surprise\\9830.jpg\n",
      "7063    images/test\\surprise\\9853.jpg\n",
      "7064    images/test\\surprise\\9878.jpg\n",
      "7065     images/test\\surprise\\993.jpg\n",
      "Name: image, Length: 7066, dtype: object\n"
     ]
    }
   ],
   "source": [
    "print(test)\n",
    "print(test['image'])"
   ]
  },
  {
   "cell_type": "code",
   "execution_count": 8,
   "id": "693324b0",
   "metadata": {},
   "outputs": [],
   "source": [
    "from tqdm.notebook import tqdm"
   ]
  },
  {
   "cell_type": "code",
   "execution_count": 9,
   "id": "f52ccbbe",
   "metadata": {},
   "outputs": [],
   "source": [
    "def extract_features(images):\n",
    "    features = []\n",
    "    for image in tqdm(images):\n",
    "        img = load_img(image,grayscale =  True )\n",
    "        img = np.array(img)\n",
    "        features.append(img)\n",
    "    features = np.array(features)\n",
    "    features = features.reshape(len(features),48,48,1)\n",
    "    return features\n",
    "    "
   ]
  },
  {
   "cell_type": "code",
   "execution_count": 10,
   "id": "942a9d40",
   "metadata": {},
   "outputs": [
    {
     "data": {
      "application/vnd.jupyter.widget-view+json": {
       "model_id": "733174ff48f0425c98c2acf00a326e95",
       "version_major": 2,
       "version_minor": 0
      },
      "text/plain": [
       "  0%|          | 0/28821 [00:00<?, ?it/s]"
      ]
     },
     "metadata": {},
     "output_type": "display_data"
    },
    {
     "name": "stderr",
     "output_type": "stream",
     "text": [
      "C:\\Users\\HP\\AppData\\Roaming\\Python\\Python311\\site-packages\\keras\\src\\utils\\image_utils.py:409: UserWarning: grayscale is deprecated. Please use color_mode = \"grayscale\"\n",
      "  warnings.warn(\n"
     ]
    }
   ],
   "source": [
    "train_features = extract_features(train['image']) "
   ]
  },
  {
   "cell_type": "code",
   "execution_count": 11,
   "id": "c1b294ed",
   "metadata": {},
   "outputs": [
    {
     "data": {
      "application/vnd.jupyter.widget-view+json": {
       "model_id": "a80087af103240369b294863556cf93c",
       "version_major": 2,
       "version_minor": 0
      },
      "text/plain": [
       "  0%|          | 0/7066 [00:00<?, ?it/s]"
      ]
     },
     "metadata": {},
     "output_type": "display_data"
    }
   ],
   "source": [
    "test_features = extract_features(test['image'])"
   ]
  },
  {
   "cell_type": "code",
   "execution_count": 12,
   "id": "f78b5d34",
   "metadata": {},
   "outputs": [],
   "source": [
    "x_train = train_features/255.0\n",
    "x_test = test_features/255.0"
   ]
  },
  {
   "cell_type": "code",
   "execution_count": 13,
   "id": "c660fca1",
   "metadata": {},
   "outputs": [],
   "source": [
    "from sklearn.preprocessing import LabelEncoder"
   ]
  },
  {
   "cell_type": "code",
   "execution_count": 14,
   "id": "5384a25b",
   "metadata": {},
   "outputs": [
    {
     "data": {
      "text/html": [
       "<style>#sk-container-id-1 {color: black;}#sk-container-id-1 pre{padding: 0;}#sk-container-id-1 div.sk-toggleable {background-color: white;}#sk-container-id-1 label.sk-toggleable__label {cursor: pointer;display: block;width: 100%;margin-bottom: 0;padding: 0.3em;box-sizing: border-box;text-align: center;}#sk-container-id-1 label.sk-toggleable__label-arrow:before {content: \"▸\";float: left;margin-right: 0.25em;color: #696969;}#sk-container-id-1 label.sk-toggleable__label-arrow:hover:before {color: black;}#sk-container-id-1 div.sk-estimator:hover label.sk-toggleable__label-arrow:before {color: black;}#sk-container-id-1 div.sk-toggleable__content {max-height: 0;max-width: 0;overflow: hidden;text-align: left;background-color: #f0f8ff;}#sk-container-id-1 div.sk-toggleable__content pre {margin: 0.2em;color: black;border-radius: 0.25em;background-color: #f0f8ff;}#sk-container-id-1 input.sk-toggleable__control:checked~div.sk-toggleable__content {max-height: 200px;max-width: 100%;overflow: auto;}#sk-container-id-1 input.sk-toggleable__control:checked~label.sk-toggleable__label-arrow:before {content: \"▾\";}#sk-container-id-1 div.sk-estimator input.sk-toggleable__control:checked~label.sk-toggleable__label {background-color: #d4ebff;}#sk-container-id-1 div.sk-label input.sk-toggleable__control:checked~label.sk-toggleable__label {background-color: #d4ebff;}#sk-container-id-1 input.sk-hidden--visually {border: 0;clip: rect(1px 1px 1px 1px);clip: rect(1px, 1px, 1px, 1px);height: 1px;margin: -1px;overflow: hidden;padding: 0;position: absolute;width: 1px;}#sk-container-id-1 div.sk-estimator {font-family: monospace;background-color: #f0f8ff;border: 1px dotted black;border-radius: 0.25em;box-sizing: border-box;margin-bottom: 0.5em;}#sk-container-id-1 div.sk-estimator:hover {background-color: #d4ebff;}#sk-container-id-1 div.sk-parallel-item::after {content: \"\";width: 100%;border-bottom: 1px solid gray;flex-grow: 1;}#sk-container-id-1 div.sk-label:hover label.sk-toggleable__label {background-color: #d4ebff;}#sk-container-id-1 div.sk-serial::before {content: \"\";position: absolute;border-left: 1px solid gray;box-sizing: border-box;top: 0;bottom: 0;left: 50%;z-index: 0;}#sk-container-id-1 div.sk-serial {display: flex;flex-direction: column;align-items: center;background-color: white;padding-right: 0.2em;padding-left: 0.2em;position: relative;}#sk-container-id-1 div.sk-item {position: relative;z-index: 1;}#sk-container-id-1 div.sk-parallel {display: flex;align-items: stretch;justify-content: center;background-color: white;position: relative;}#sk-container-id-1 div.sk-item::before, #sk-container-id-1 div.sk-parallel-item::before {content: \"\";position: absolute;border-left: 1px solid gray;box-sizing: border-box;top: 0;bottom: 0;left: 50%;z-index: -1;}#sk-container-id-1 div.sk-parallel-item {display: flex;flex-direction: column;z-index: 1;position: relative;background-color: white;}#sk-container-id-1 div.sk-parallel-item:first-child::after {align-self: flex-end;width: 50%;}#sk-container-id-1 div.sk-parallel-item:last-child::after {align-self: flex-start;width: 50%;}#sk-container-id-1 div.sk-parallel-item:only-child::after {width: 0;}#sk-container-id-1 div.sk-dashed-wrapped {border: 1px dashed gray;margin: 0 0.4em 0.5em 0.4em;box-sizing: border-box;padding-bottom: 0.4em;background-color: white;}#sk-container-id-1 div.sk-label label {font-family: monospace;font-weight: bold;display: inline-block;line-height: 1.2em;}#sk-container-id-1 div.sk-label-container {text-align: center;}#sk-container-id-1 div.sk-container {/* jupyter's `normalize.less` sets `[hidden] { display: none; }` but bootstrap.min.css set `[hidden] { display: none !important; }` so we also need the `!important` here to be able to override the default hidden behavior on the sphinx rendered scikit-learn.org. See: https://github.com/scikit-learn/scikit-learn/issues/21755 */display: inline-block !important;position: relative;}#sk-container-id-1 div.sk-text-repr-fallback {display: none;}</style><div id=\"sk-container-id-1\" class=\"sk-top-container\"><div class=\"sk-text-repr-fallback\"><pre>LabelEncoder()</pre><b>In a Jupyter environment, please rerun this cell to show the HTML representation or trust the notebook. <br />On GitHub, the HTML representation is unable to render, please try loading this page with nbviewer.org.</b></div><div class=\"sk-container\" hidden><div class=\"sk-item\"><div class=\"sk-estimator sk-toggleable\"><input class=\"sk-toggleable__control sk-hidden--visually\" id=\"sk-estimator-id-1\" type=\"checkbox\" checked><label for=\"sk-estimator-id-1\" class=\"sk-toggleable__label sk-toggleable__label-arrow\">LabelEncoder</label><div class=\"sk-toggleable__content\"><pre>LabelEncoder()</pre></div></div></div></div></div>"
      ],
      "text/plain": [
       "LabelEncoder()"
      ]
     },
     "execution_count": 14,
     "metadata": {},
     "output_type": "execute_result"
    }
   ],
   "source": [
    "le = LabelEncoder()\n",
    "le.fit(train['label'])"
   ]
  },
  {
   "cell_type": "code",
   "execution_count": 15,
   "id": "50ece229",
   "metadata": {},
   "outputs": [],
   "source": [
    "y_train = le.transform(train['label'])\n",
    "y_test = le.transform(test['label'])"
   ]
  },
  {
   "cell_type": "code",
   "execution_count": 16,
   "id": "5e284299",
   "metadata": {},
   "outputs": [],
   "source": [
    "y_train = to_categorical(y_train,num_classes = 7)\n",
    "y_test = to_categorical(y_test,num_classes = 7)"
   ]
  },
  {
   "cell_type": "code",
   "execution_count": 17,
   "id": "3977223a",
   "metadata": {},
   "outputs": [],
   "source": [
    "model = Sequential()\n",
    "# convolutional layers\n",
    "model.add(Conv2D(128, kernel_size=(3,3), activation='relu', input_shape=(48,48,1)))\n",
    "model.add(MaxPooling2D(pool_size=(2,2)))\n",
    "model.add(Dropout(0.4))\n",
    "\n",
    "model.add(Conv2D(256, kernel_size=(3,3), activation='relu'))\n",
    "model.add(MaxPooling2D(pool_size=(2,2)))\n",
    "model.add(Dropout(0.4))\n",
    "\n",
    "model.add(Conv2D(512, kernel_size=(3,3), activation='relu'))\n",
    "model.add(MaxPooling2D(pool_size=(2,2)))\n",
    "model.add(Dropout(0.4))\n",
    "\n",
    "model.add(Conv2D(512, kernel_size=(3,3), activation='relu'))\n",
    "model.add(MaxPooling2D(pool_size=(2,2)))\n",
    "model.add(Dropout(0.4))\n",
    "\n",
    "model.add(Flatten())\n",
    "# fully connected layers\n",
    "model.add(Dense(512, activation='relu'))\n",
    "model.add(Dropout(0.4))\n",
    "model.add(Dense(256, activation='relu'))\n",
    "model.add(Dropout(0.3))\n",
    "# output layer\n",
    "model.add(Dense(7, activation='softmax'))"
   ]
  },
  {
   "cell_type": "code",
   "execution_count": 18,
   "id": "de986d6e",
   "metadata": {},
   "outputs": [],
   "source": [
    "model.compile(optimizer = 'adam', loss = 'categorical_crossentropy', metrics = 'accuracy' )"
   ]
  },
  {
   "cell_type": "code",
   "execution_count": null,
   "id": "5cd0b130",
   "metadata": {},
   "outputs": [
    {
     "name": "stdout",
     "output_type": "stream",
     "text": [
      "Epoch 1/100\n",
      "226/226 [==============================] - 1301s 6s/step - loss: 1.8229 - accuracy: 0.2421 - val_loss: 1.8005 - val_accuracy: 0.2583\n",
      "Epoch 2/100\n",
      "226/226 [==============================] - 1293s 6s/step - loss: 1.7977 - accuracy: 0.2517 - val_loss: 1.7607 - val_accuracy: 0.2815\n",
      "Epoch 3/100\n",
      "226/226 [==============================] - 1261s 6s/step - loss: 1.7274 - accuracy: 0.2904 - val_loss: 1.6807 - val_accuracy: 0.3273\n",
      "Epoch 4/100\n",
      "226/226 [==============================] - 1252s 6s/step - loss: 1.6354 - accuracy: 0.3492 - val_loss: 1.4799 - val_accuracy: 0.4202\n",
      "Epoch 5/100\n",
      "226/226 [==============================] - 1250s 6s/step - loss: 1.5205 - accuracy: 0.4101 - val_loss: 1.3986 - val_accuracy: 0.4550\n",
      "Epoch 6/100\n",
      "226/226 [==============================] - 1520s 7s/step - loss: 1.4566 - accuracy: 0.4359 - val_loss: 1.3771 - val_accuracy: 0.4774\n",
      "Epoch 7/100\n",
      "226/226 [==============================] - 1495s 7s/step - loss: 1.4052 - accuracy: 0.4582 - val_loss: 1.3003 - val_accuracy: 0.5091\n",
      "Epoch 8/100\n",
      "226/226 [==============================] - 1496s 7s/step - loss: 1.3669 - accuracy: 0.4769 - val_loss: 1.2701 - val_accuracy: 0.5149\n",
      "Epoch 9/100\n",
      "226/226 [==============================] - 1501s 7s/step - loss: 1.3415 - accuracy: 0.4864 - val_loss: 1.2382 - val_accuracy: 0.5323\n",
      "Epoch 10/100\n",
      "226/226 [==============================] - 1480s 7s/step - loss: 1.3132 - accuracy: 0.4945 - val_loss: 1.2064 - val_accuracy: 0.5432\n",
      "Epoch 11/100\n",
      "226/226 [==============================] - 1083s 5s/step - loss: 1.2938 - accuracy: 0.5032 - val_loss: 1.2021 - val_accuracy: 0.5443\n",
      "Epoch 12/100\n",
      "226/226 [==============================] - 1075s 5s/step - loss: 1.2664 - accuracy: 0.5151 - val_loss: 1.1906 - val_accuracy: 0.5501\n",
      "Epoch 13/100\n",
      "226/226 [==============================] - 1077s 5s/step - loss: 1.2604 - accuracy: 0.5175 - val_loss: 1.1763 - val_accuracy: 0.5545\n",
      "Epoch 14/100\n",
      "226/226 [==============================] - 1100s 5s/step - loss: 1.2474 - accuracy: 0.5221 - val_loss: 1.1579 - val_accuracy: 0.5635\n",
      "Epoch 15/100\n",
      "226/226 [==============================] - 1277s 6s/step - loss: 1.2250 - accuracy: 0.5309 - val_loss: 1.1720 - val_accuracy: 0.5638\n",
      "Epoch 16/100\n",
      "226/226 [==============================] - 1272s 6s/step - loss: 1.2118 - accuracy: 0.5405 - val_loss: 1.1468 - val_accuracy: 0.5669\n",
      "Epoch 17/100\n",
      "226/226 [==============================] - 1277s 6s/step - loss: 1.2077 - accuracy: 0.5436 - val_loss: 1.1307 - val_accuracy: 0.5708\n",
      "Epoch 18/100\n",
      "226/226 [==============================] - 1236s 5s/step - loss: 1.1961 - accuracy: 0.5444 - val_loss: 1.1237 - val_accuracy: 0.5812\n",
      "Epoch 19/100\n",
      "226/226 [==============================] - 1080s 5s/step - loss: 1.1809 - accuracy: 0.5537 - val_loss: 1.1189 - val_accuracy: 0.5778\n",
      "Epoch 20/100\n",
      "226/226 [==============================] - 1079s 5s/step - loss: 1.1662 - accuracy: 0.5580 - val_loss: 1.1188 - val_accuracy: 0.5773\n",
      "Epoch 21/100\n",
      "226/226 [==============================] - 1078s 5s/step - loss: 1.1511 - accuracy: 0.5637 - val_loss: 1.1020 - val_accuracy: 0.5865\n",
      "Epoch 22/100\n",
      "226/226 [==============================] - 1077s 5s/step - loss: 1.1502 - accuracy: 0.5642 - val_loss: 1.1012 - val_accuracy: 0.5865\n",
      "Epoch 23/100\n",
      "226/226 [==============================] - 1122s 5s/step - loss: 1.1401 - accuracy: 0.5671 - val_loss: 1.1044 - val_accuracy: 0.5835\n",
      "Epoch 24/100\n",
      "226/226 [==============================] - 1403s 6s/step - loss: 1.1212 - accuracy: 0.5771 - val_loss: 1.0922 - val_accuracy: 0.5890\n",
      "Epoch 25/100\n",
      "226/226 [==============================] - 1256s 6s/step - loss: 1.1219 - accuracy: 0.5743 - val_loss: 1.0977 - val_accuracy: 0.5863\n",
      "Epoch 26/100\n",
      "226/226 [==============================] - 1246s 6s/step - loss: 1.1118 - accuracy: 0.5777 - val_loss: 1.0797 - val_accuracy: 0.5967\n",
      "Epoch 27/100\n",
      "226/226 [==============================] - 1232s 5s/step - loss: 1.1019 - accuracy: 0.5822 - val_loss: 1.0870 - val_accuracy: 0.5921\n",
      "Epoch 28/100\n",
      "226/226 [==============================] - 1272s 6s/step - loss: 1.0932 - accuracy: 0.5868 - val_loss: 1.0867 - val_accuracy: 0.5933\n",
      "Epoch 29/100\n",
      "226/226 [==============================] - 1277s 6s/step - loss: 1.0922 - accuracy: 0.5894 - val_loss: 1.0729 - val_accuracy: 0.5982\n",
      "Epoch 30/100\n",
      "226/226 [==============================] - 1281s 6s/step - loss: 1.0861 - accuracy: 0.5916 - val_loss: 1.0747 - val_accuracy: 0.5995\n",
      "Epoch 31/100\n",
      "226/226 [==============================] - 1278s 6s/step - loss: 1.0765 - accuracy: 0.5922 - val_loss: 1.0727 - val_accuracy: 0.5965\n",
      "Epoch 32/100\n",
      "226/226 [==============================] - 1302s 6s/step - loss: 1.0712 - accuracy: 0.5955 - val_loss: 1.0768 - val_accuracy: 0.5993\n",
      "Epoch 33/100\n",
      "226/226 [==============================] - 1280s 6s/step - loss: 1.0623 - accuracy: 0.5981 - val_loss: 1.0666 - val_accuracy: 0.6002\n",
      "Epoch 34/100\n",
      "226/226 [==============================] - 1280s 6s/step - loss: 1.0577 - accuracy: 0.5991 - val_loss: 1.0585 - val_accuracy: 0.6020\n",
      "Epoch 35/100\n",
      "226/226 [==============================] - 1276s 6s/step - loss: 1.0458 - accuracy: 0.6051 - val_loss: 1.0466 - val_accuracy: 0.6122\n",
      "Epoch 36/100\n",
      "226/226 [==============================] - 1275s 6s/step - loss: 1.0438 - accuracy: 0.6071 - val_loss: 1.0673 - val_accuracy: 0.6008\n",
      "Epoch 37/100\n",
      "226/226 [==============================] - 1285s 6s/step - loss: 1.0398 - accuracy: 0.6109 - val_loss: 1.0641 - val_accuracy: 0.6001\n",
      "Epoch 38/100\n",
      "226/226 [==============================] - 1281s 6s/step - loss: 1.0344 - accuracy: 0.6110 - val_loss: 1.0535 - val_accuracy: 0.6061\n",
      "Epoch 39/100\n",
      "226/226 [==============================] - 1286s 6s/step - loss: 1.0229 - accuracy: 0.6140 - val_loss: 1.0715 - val_accuracy: 0.6052\n",
      "Epoch 40/100\n",
      "226/226 [==============================] - 1283s 6s/step - loss: 1.0192 - accuracy: 0.6151 - val_loss: 1.0586 - val_accuracy: 0.6067\n",
      "Epoch 41/100\n",
      "226/226 [==============================] - 1285s 6s/step - loss: 1.0213 - accuracy: 0.6178 - val_loss: 1.0555 - val_accuracy: 0.6104\n",
      "Epoch 42/100\n",
      "226/226 [==============================] - 1281s 6s/step - loss: 1.0079 - accuracy: 0.6179 - val_loss: 1.0448 - val_accuracy: 0.6121\n",
      "Epoch 43/100\n",
      "226/226 [==============================] - 1283s 6s/step - loss: 0.9989 - accuracy: 0.6232 - val_loss: 1.0416 - val_accuracy: 0.6110\n",
      "Epoch 44/100\n",
      "226/226 [==============================] - 1284s 6s/step - loss: 1.0019 - accuracy: 0.6231 - val_loss: 1.0474 - val_accuracy: 0.6124\n",
      "Epoch 45/100\n",
      "226/226 [==============================] - 1286s 6s/step - loss: 0.9882 - accuracy: 0.6274 - val_loss: 1.0462 - val_accuracy: 0.6121\n",
      "Epoch 46/100\n",
      "226/226 [==============================] - 1285s 6s/step - loss: 0.9837 - accuracy: 0.6288 - val_loss: 1.0463 - val_accuracy: 0.6107\n",
      "Epoch 47/100\n",
      "226/226 [==============================] - 1279s 6s/step - loss: 0.9927 - accuracy: 0.6274 - val_loss: 1.0574 - val_accuracy: 0.6074\n",
      "Epoch 48/100\n",
      "226/226 [==============================] - 1270s 6s/step - loss: 0.9745 - accuracy: 0.6341 - val_loss: 1.0424 - val_accuracy: 0.6114\n",
      "Epoch 49/100\n",
      "226/226 [==============================] - 1196s 5s/step - loss: 0.9653 - accuracy: 0.6372 - val_loss: 1.0394 - val_accuracy: 0.6173\n",
      "Epoch 50/100\n",
      "226/226 [==============================] - 1195s 5s/step - loss: 0.9694 - accuracy: 0.6365 - val_loss: 1.0399 - val_accuracy: 0.6153\n",
      "Epoch 51/100\n",
      "226/226 [==============================] - 1199s 5s/step - loss: 0.9552 - accuracy: 0.6377 - val_loss: 1.0475 - val_accuracy: 0.6128\n",
      "Epoch 52/100\n",
      "226/226 [==============================] - 1195s 5s/step - loss: 0.9566 - accuracy: 0.6414 - val_loss: 1.0471 - val_accuracy: 0.6134\n",
      "Epoch 53/100\n",
      "226/226 [==============================] - 1196s 5s/step - loss: 0.9443 - accuracy: 0.6462 - val_loss: 1.0401 - val_accuracy: 0.6151\n",
      "Epoch 54/100\n",
      "226/226 [==============================] - 1199s 5s/step - loss: 0.9447 - accuracy: 0.6456 - val_loss: 1.0503 - val_accuracy: 0.6160\n",
      "Epoch 55/100\n",
      "226/226 [==============================] - 1194s 5s/step - loss: 0.9433 - accuracy: 0.6452 - val_loss: 1.0369 - val_accuracy: 0.6185\n",
      "Epoch 56/100\n",
      "226/226 [==============================] - 1191s 5s/step - loss: 0.9264 - accuracy: 0.6528 - val_loss: 1.0743 - val_accuracy: 0.6032\n",
      "Epoch 57/100\n",
      "226/226 [==============================] - 1200s 5s/step - loss: 0.9341 - accuracy: 0.6508 - val_loss: 1.0468 - val_accuracy: 0.6163\n",
      "Epoch 58/100\n",
      "226/226 [==============================] - 1202s 5s/step - loss: 0.9278 - accuracy: 0.6515 - val_loss: 1.0475 - val_accuracy: 0.6169\n",
      "Epoch 59/100\n",
      "226/226 [==============================] - 1192s 5s/step - loss: 0.9265 - accuracy: 0.6558 - val_loss: 1.0241 - val_accuracy: 0.6221\n",
      "Epoch 60/100\n",
      "226/226 [==============================] - 1196s 5s/step - loss: 0.9083 - accuracy: 0.6593 - val_loss: 1.0302 - val_accuracy: 0.6238\n",
      "Epoch 61/100\n",
      "226/226 [==============================] - 1192s 5s/step - loss: 0.9089 - accuracy: 0.6637 - val_loss: 1.0429 - val_accuracy: 0.6220\n",
      "Epoch 62/100\n",
      "226/226 [==============================] - 1191s 5s/step - loss: 0.9043 - accuracy: 0.6641 - val_loss: 1.0397 - val_accuracy: 0.6265\n",
      "Epoch 63/100\n",
      "226/226 [==============================] - 1193s 5s/step - loss: 0.9007 - accuracy: 0.6647 - val_loss: 1.0365 - val_accuracy: 0.6244\n",
      "Epoch 64/100\n",
      "226/226 [==============================] - 1188s 5s/step - loss: 0.8975 - accuracy: 0.6683 - val_loss: 1.0433 - val_accuracy: 0.6160\n",
      "Epoch 65/100\n",
      "226/226 [==============================] - 1189s 5s/step - loss: 0.8856 - accuracy: 0.6678 - val_loss: 1.0389 - val_accuracy: 0.6221\n",
      "Epoch 66/100\n",
      "226/226 [==============================] - 1231s 5s/step - loss: 0.8851 - accuracy: 0.6723 - val_loss: 1.0326 - val_accuracy: 0.6230\n",
      "Epoch 67/100\n",
      "226/226 [==============================] - 1235s 5s/step - loss: 0.8784 - accuracy: 0.6740 - val_loss: 1.0480 - val_accuracy: 0.6196\n",
      "Epoch 68/100\n",
      "226/226 [==============================] - 1242s 5s/step - loss: 0.8799 - accuracy: 0.6723 - val_loss: 1.0431 - val_accuracy: 0.6145\n",
      "Epoch 69/100\n",
      "226/226 [==============================] - 1262s 6s/step - loss: 0.8690 - accuracy: 0.6744 - val_loss: 1.0390 - val_accuracy: 0.6203\n",
      "Epoch 70/100\n",
      "226/226 [==============================] - 1252s 6s/step - loss: 0.8732 - accuracy: 0.6778 - val_loss: 1.0276 - val_accuracy: 0.6243\n",
      "Epoch 71/100\n",
      "226/226 [==============================] - 1246s 6s/step - loss: 0.8700 - accuracy: 0.6760 - val_loss: 1.0289 - val_accuracy: 0.6260\n",
      "Epoch 72/100\n",
      "226/226 [==============================] - 1247s 6s/step - loss: 0.8592 - accuracy: 0.6856 - val_loss: 1.0190 - val_accuracy: 0.6271\n",
      "Epoch 73/100\n",
      "226/226 [==============================] - 1289s 6s/step - loss: 0.8584 - accuracy: 0.6816 - val_loss: 1.0306 - val_accuracy: 0.6267\n",
      "Epoch 74/100\n",
      "226/226 [==============================] - 3316s 15s/step - loss: 0.8526 - accuracy: 0.6809 - val_loss: 1.0471 - val_accuracy: 0.6210\n",
      "Epoch 75/100\n",
      "226/226 [==============================] - 1180s 5s/step - loss: 0.8495 - accuracy: 0.6867 - val_loss: 1.0353 - val_accuracy: 0.6231\n",
      "Epoch 76/100\n",
      "226/226 [==============================] - 1086s 5s/step - loss: 0.8479 - accuracy: 0.6853 - val_loss: 1.0348 - val_accuracy: 0.6207\n",
      "Epoch 77/100\n",
      "191/226 [========================>.....] - ETA: 4:07 - loss: 0.8342 - accuracy: 0.6910"
     ]
    }
   ],
   "source": [
    "model.fit(x= x_train,y = y_train, batch_size = 128, epochs = 100, validation_data = (x_test,y_test)) \n"
   ]
  },
  {
   "cell_type": "code",
   "execution_count": null,
   "id": "2b0f1923",
   "metadata": {},
   "outputs": [],
   "source": [
    "model_json = model.to_json()\n",
    "with open(\"emotiondetector.json\",'w') as json_file:\n",
    "    json_file.write(model_json)\n",
    "model.save_weights(\"emotiondetector.h5\")"
   ]
  },
  {
   "cell_type": "code",
   "execution_count": null,
   "id": "46e2098e",
   "metadata": {},
   "outputs": [],
   "source": [
    "from keras.models import model_from_json"
   ]
  },
  {
   "cell_type": "code",
   "execution_count": null,
   "id": "90703547",
   "metadata": {},
   "outputs": [],
   "source": [
    "json_file = open(\"facialemotionmodel.json\", \"r\")\n",
    "model_json = json_file.read()\n",
    "json_file.close()\n",
    "model = model_from_json(model_json)\n",
    "model.load_weights(\"facialemotionmodel.h5\")"
   ]
  },
  {
   "cell_type": "code",
   "execution_count": null,
   "id": "3932bbe8",
   "metadata": {},
   "outputs": [],
   "source": [
    "label = ['angry','disgust','fear','happy','neutral','sad','surprise']"
   ]
  },
  {
   "cell_type": "code",
   "execution_count": null,
   "id": "b0ccbacf",
   "metadata": {},
   "outputs": [],
   "source": [
    "def ef(image):\n",
    "    img = load_img(image,grayscale =  True )\n",
    "    feature = np.array(img)\n",
    "    feature = feature.reshape(1,48,48,1)\n",
    "    return feature/255.0\n",
    "    "
   ]
  },
  {
   "cell_type": "code",
   "execution_count": null,
   "id": "5882c78e",
   "metadata": {},
   "outputs": [],
   "source": [
    "image = 'images/train/sad/42.jpg'\n",
    "print(\"original image is of sad\")\n",
    "img = ef(image)\n",
    "pred = model.predict(img)\n",
    "pred_label = label[pred.argmax()]\n",
    "print(\"model prediction is \",pred_label)"
   ]
  },
  {
   "cell_type": "code",
   "execution_count": null,
   "id": "8994206c",
   "metadata": {},
   "outputs": [],
   "source": [
    "import matplotlib.pyplot as plt\n",
    "%matplotlib inline"
   ]
  },
  {
   "cell_type": "code",
   "execution_count": null,
   "id": "c83af9e1",
   "metadata": {},
   "outputs": [],
   "source": [
    "image = 'images/train/sad/42.jpg'\n",
    "print(\"original image is of sad\")\n",
    "img = ef(image)\n",
    "pred = model.predict(img)\n",
    "pred_label = label[pred.argmax()]\n",
    "print(\"model prediction is \",pred_label)\n",
    "plt.imshow(img.reshape(48,48),cmap='gray')"
   ]
  },
  {
   "cell_type": "code",
   "execution_count": null,
   "id": "5adb7b7a",
   "metadata": {},
   "outputs": [],
   "source": [
    "image = 'images/train/fear/2.jpg'\n",
    "print(\"original image is of fear\")\n",
    "img = ef(image)\n",
    "pred = model.predict(img)\n",
    "pred_label = label[pred.argmax()]\n",
    "print(\"model prediction is \",pred_label)\n",
    "plt.imshow(img.reshape(48,48),cmap='gray')"
   ]
  },
  {
   "cell_type": "code",
   "execution_count": null,
   "id": "e5ea96ba",
   "metadata": {},
   "outputs": [],
   "source": [
    "image = 'images/train/disgust/299.jpg'\n",
    "print(\"original image is of disgust\")\n",
    "img = ef(image)\n",
    "pred = model.predict(img)\n",
    "pred_label = label[pred.argmax()]\n",
    "print(\"model prediction is \",pred_label)\n",
    "plt.imshow(img.reshape(48,48),cmap='gray')"
   ]
  },
  {
   "cell_type": "code",
   "execution_count": null,
   "id": "1c4befa7",
   "metadata": {},
   "outputs": [],
   "source": [
    "image = 'images/train/happy/7.jpg'\n",
    "print(\"original image is of happy\")\n",
    "img = ef(image)\n",
    "pred = model.predict(img)\n",
    "pred_label = label[pred.argmax()]\n",
    "print(\"model prediction is \",pred_label)\n",
    "plt.imshow(img.reshape(48,48),cmap='gray')"
   ]
  },
  {
   "cell_type": "code",
   "execution_count": null,
   "id": "8d6bb2fa",
   "metadata": {},
   "outputs": [],
   "source": [
    "image = 'images/train/angry/342.jpg'\n",
    "print(\"original image is of angry\")\n",
    "img = ef(image)\n",
    "pred = model.predict(img)\n",
    "pred_label = label[pred.argmax()]\n",
    "print(\"model prediction is \",pred_label)\n",
    "plt.imshow(img.reshape(48,48),cmap='gray')"
   ]
  },
  {
   "cell_type": "code",
   "execution_count": null,
   "id": "b005764f",
   "metadata": {},
   "outputs": [],
   "source": []
  }
 ],
 "metadata": {
  "kernelspec": {
   "display_name": "Python 3 (ipykernel)",
   "language": "python",
   "name": "python3"
  },
  "language_info": {
   "codemirror_mode": {
    "name": "ipython",
    "version": 3
   },
   "file_extension": ".py",
   "mimetype": "text/x-python",
   "name": "python",
   "nbconvert_exporter": "python",
   "pygments_lexer": "ipython3",
   "version": "3.11.4"
  }
 },
 "nbformat": 4,
 "nbformat_minor": 5
}
