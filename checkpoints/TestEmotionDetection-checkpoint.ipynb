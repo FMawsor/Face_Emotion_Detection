{
 "cells": [
  {
   "cell_type": "code",
   "execution_count": 8,
   "id": "e2ddfb47-4424-4fae-84c3-2608a889d278",
   "metadata": {},
   "outputs": [],
   "source": [
    "import numpy as np\n",
    "import argparse\n",
    "import matplotlib.pyplot as plt\n",
    "import cv2\n",
    "from tensorflow.keras.models import Sequential\n",
    "from tensorflow.keras.layers import Dense, Dropout, Flatten\n",
    "from tensorflow.keras.layers import Conv2D\n",
    "from tensorflow.keras.optimizers import Adam\n",
    "from tensorflow.keras.layers import MaxPooling2D\n",
    "from tensorflow.keras.preprocessing.image import ImageDataGenerator\n",
    "from keras.models import model_from_json\n",
    "import os\n",
    "os.environ['TF_CPP_MIN_LOG_LEVEL'] = '2'\n"
   ]
  },
  {
   "cell_type": "code",
   "execution_count": 9,
   "id": "56f1b39d-0fb2-4260-b622-794380a1e3f0",
   "metadata": {},
   "outputs": [],
   "source": [
    "train_data_gen = ImageDataGenerator(rescale=1./255)\n",
    "validation_data_gen = ImageDataGenerator(rescale=1./255)"
   ]
  },
  {
   "cell_type": "code",
   "execution_count": 10,
   "id": "1348013d-2ffc-4ce3-bea0-a8a5612ca179",
   "metadata": {},
   "outputs": [
    {
     "name": "stdout",
     "output_type": "stream",
     "text": [
      "Found 28821 images belonging to 7 classes.\n"
     ]
    }
   ],
   "source": [
    "train_generator = train_data_gen.flow_from_directory(\n",
    "        'data/train',\n",
    "        target_size=(48, 48),\n",
    "        batch_size=64,\n",
    "        color_mode=\"grayscale\",\n",
    "        class_mode='categorical')"
   ]
  },
  {
   "cell_type": "code",
   "execution_count": 11,
   "id": "91158edd-0eac-40f2-bc4e-28f1247568c4",
   "metadata": {},
   "outputs": [
    {
     "name": "stdout",
     "output_type": "stream",
     "text": [
      "Found 7066 images belonging to 7 classes.\n"
     ]
    }
   ],
   "source": [
    "validation_generator = validation_data_gen.flow_from_directory(\n",
    "        'data/test',\n",
    "        target_size=(48, 48),\n",
    "        batch_size=64,\n",
    "        color_mode=\"grayscale\",\n",
    "        class_mode='categorical')"
   ]
  },
  {
   "cell_type": "code",
   "execution_count": 12,
   "id": "631a6868-0dfe-4e80-a666-553489dc9345",
   "metadata": {},
   "outputs": [],
   "source": [
    "emotion_model = Sequential()\n",
    "\n",
    "emotion_model.add(Conv2D(32, kernel_size=(3, 3), activation='relu', input_shape=(48, 48, 1)))\n",
    "emotion_model.add(Conv2D(64, kernel_size=(3, 3), activation='relu'))\n",
    "emotion_model.add(MaxPooling2D(pool_size=(2, 2)))\n",
    "emotion_model.add(Dropout(0.25))"
   ]
  },
  {
   "cell_type": "code",
   "execution_count": 13,
   "id": "294334f2-655f-4c1a-8f01-f2eaa32a8cab",
   "metadata": {},
   "outputs": [],
   "source": [
    "emotion_model.add(Conv2D(128, kernel_size=(3, 3), activation='relu'))\n",
    "emotion_model.add(MaxPooling2D(pool_size=(2, 2)))\n",
    "emotion_model.add(Conv2D(128, kernel_size=(3, 3), activation='relu'))\n",
    "emotion_model.add(MaxPooling2D(pool_size=(2, 2)))\n",
    "emotion_model.add(Dropout(0.25))\n"
   ]
  },
  {
   "cell_type": "code",
   "execution_count": 14,
   "id": "34d9f2f8-56fa-49c9-bd72-76f8eeae869d",
   "metadata": {},
   "outputs": [],
   "source": [
    "\n",
    "emotion_model.add(Flatten())\n",
    "emotion_model.add(Dense(1024, activation='relu'))\n",
    "emotion_model.add(Dropout(0.5))\n",
    "emotion_model.add(Dense(7, activation='softmax'))\n"
   ]
  },
  {
   "cell_type": "code",
   "execution_count": 15,
   "id": "b06ac3dd-15ba-40b4-8e71-67250189a9aa",
   "metadata": {},
   "outputs": [],
   "source": [
    "cv2.ocl.setUseOpenCL(False)\n"
   ]
  },
  {
   "cell_type": "code",
   "execution_count": 16,
   "id": "ad2b5e38-55c2-4c4a-8db5-71be093d28eb",
   "metadata": {},
   "outputs": [],
   "source": [
    "emotion_model.compile(loss='categorical_crossentropy', optimizer = 'Adam', metrics = 'accuracy')\n"
   ]
  },
  {
   "cell_type": "code",
   "execution_count": null,
   "id": "24d25096-6a46-4b97-89b2-2877144c715e",
   "metadata": {},
   "outputs": [
    {
     "name": "stdout",
     "output_type": "stream",
     "text": [
      "Epoch 1/50\n",
      "448/448 [==============================] - ETA: 0s - loss: 1.8009 - accuracy: 0.2567WARNING:tensorflow:Your input ran out of data; interrupting training. Make sure that your dataset or generator can generate at least `steps_per_epoch * epochs` batches (in this case, 112 batches). You may need to use the repeat() function when building your dataset.\n",
      "448/448 [==============================] - 1099s 2s/step - loss: 1.8009 - accuracy: 0.2567 - val_loss: 1.6572 - val_accuracy: 0.3469\n",
      "Epoch 2/50\n",
      "448/448 [==============================] - 418s 933ms/step - loss: 1.5162 - accuracy: 0.4056\n",
      "Epoch 3/50\n",
      "448/448 [==============================] - 404s 901ms/step - loss: 1.3358 - accuracy: 0.4870\n",
      "Epoch 4/50\n",
      "386/448 [========================>.....] - ETA: 56s - loss: 1.2528 - accuracy: 0.5201"
     ]
    }
   ],
   "source": [
    "emotion_model_info = emotion_model.fit(\n",
    "        train_generator,\n",
    "        steps_per_epoch=28709 // 64,\n",
    "        epochs=50,\n",
    "        validation_data=validation_generator,\n",
    "        validation_steps=7178 // 64)"
   ]
  },
  {
   "cell_type": "code",
   "execution_count": 5,
   "id": "9dc1ba55-2922-40bb-bac0-ba5a6090c230",
   "metadata": {},
   "outputs": [
    {
     "ename": "NameError",
     "evalue": "name 'emotion_model' is not defined",
     "output_type": "error",
     "traceback": [
      "\u001b[1;31m---------------------------------------------------------------------------\u001b[0m",
      "\u001b[1;31mNameError\u001b[0m                                 Traceback (most recent call last)",
      "Cell \u001b[1;32mIn[5], line 1\u001b[0m\n\u001b[1;32m----> 1\u001b[0m \u001b[43memotion_model\u001b[49m\u001b[38;5;241m.\u001b[39mload_weights(\u001b[38;5;124m\"\u001b[39m\u001b[38;5;124mmodel/emotion_model.h5\u001b[39m\u001b[38;5;124m\"\u001b[39m)\n\u001b[0;32m      2\u001b[0m \u001b[38;5;28mprint\u001b[39m(\u001b[38;5;124m\"\u001b[39m\u001b[38;5;124mLoaded model from disk\u001b[39m\u001b[38;5;124m\"\u001b[39m)\n",
      "\u001b[1;31mNameError\u001b[0m: name 'emotion_model' is not defined"
     ]
    }
   ],
   "source": [
    "emotion_model.load_weights(\"model/emotion_model.h5\")\n",
    "print(\"Loaded model from disk\")"
   ]
  },
  {
   "cell_type": "code",
   "execution_count": null,
   "id": "27eb61ec-7480-4955-9ded-971c04f6260f",
   "metadata": {},
   "outputs": [],
   "source": [
    "    cv2.ocl.setUseOpenCL(False)\n"
   ]
  },
  {
   "cell_type": "code",
   "execution_count": null,
   "id": "664a175c-3b4d-47fd-a716-e400b24ff719",
   "metadata": {},
   "outputs": [],
   "source": [
    "emotion_dict = {0: \"Angry\", 1: \"Disgusted\", 2: \"Fearful\", 3: \"Happy\", 4: \"Neutral\", 5: \"Sad\", 6: \"Surprised\"}\n"
   ]
  },
  {
   "cell_type": "code",
   "execution_count": null,
   "id": "fd6100ed-1049-45cb-a6c7-b8a8247f4081",
   "metadata": {},
   "outputs": [],
   "source": [
    "    cap = cv2.VideoCapture(0)\n"
   ]
  },
  {
   "cell_type": "code",
   "execution_count": null,
   "id": "90d12552-9e9a-4865-b8b8-60485aa18728",
   "metadata": {},
   "outputs": [],
   "source": [
    "while True:\n",
    "    # Find haar cascade to draw bounding box around face\n",
    "    ret, frame = webcam.read()\n",
    "    frame = cv2.resize(frame, (1280, 720))\n",
    "    if not ret:\n",
    "        break\n",
    "    face_detector = cv2.CascadeClassifier(cv2.data.haarcascades + 'haarcascade_frontalface_default.xml')\n",
    "    gray_frame = cv2.cvtColor(frame, cv2.COLOR_BGR2GRAY)"
   ]
  },
  {
   "cell_type": "code",
   "execution_count": null,
   "id": "af0a4f99-3e1b-4e5a-aea3-13a26afa4f57",
   "metadata": {},
   "outputs": [],
   "source": [
    "num_faces = face_detector.detectMultiScale(gray_frame, scaleFactor=1.3, minNeighbors=5)\n"
   ]
  },
  {
   "cell_type": "code",
   "execution_count": null,
   "id": "a4c9515f-2c2d-4512-a628-1f23f76de29c",
   "metadata": {},
   "outputs": [],
   "source": [
    "for (x, y, w, h) in num_faces:\n",
    "        cv2.rectangle(frame, (x, y-50), (x+w, y+h+10), (0, 255, 0), 4)\n",
    "        roi_gray_frame = gray_frame[y:y + h, x:x + w]\n",
    "        cropped_img = np.expand_dims(np.expand_dims(cv2.resize(roi_gray_frame, (48, 48)), -1), 0)\n"
   ]
  },
  {
   "cell_type": "code",
   "execution_count": null,
   "id": "66be7d34-6927-4b10-8100-d90bf048cb1e",
   "metadata": {},
   "outputs": [],
   "source": [
    "emotion_prediction = emotion_model.predict(cropped_img)\n",
    "maxindex = int(np.argmax(emotion_prediction))\n",
    "cv2.putText(frame, emotion_dict[maxindex], (x+5, y-20), cv2.FONT_HERSHEY_SIMPLEX, 1, (255, 0, 0), 2, cv2.LINE_AA)\n"
   ]
  },
  {
   "cell_type": "code",
   "execution_count": null,
   "id": "d8d0d43d-54e2-4f72-ba7a-5b50a3041421",
   "metadata": {},
   "outputs": [],
   "source": [
    "cv2.imshow('Video', cv2.resize(frame,(1600,960),interpolation = cv2.INTER_CUBIC))\n",
    "cv2.waitKey(1) & 0xFF == ord('q'):\n",
    "break\n"
   ]
  },
  {
   "cell_type": "code",
   "execution_count": null,
   "id": "ca76d5ee-f659-4e05-88b3-c20e84d4eaa7",
   "metadata": {},
   "outputs": [],
   "source": [
    "webcam.release()\n",
    "cv2.destroyAllWindows()"
   ]
  },
  {
   "cell_type": "code",
   "execution_count": null,
   "id": "90d198c6-8676-4407-8a98-3f8e31d15ecc",
   "metadata": {},
   "outputs": [],
   "source": []
  }
 ],
 "metadata": {
  "kernelspec": {
   "display_name": "Python 3 (ipykernel)",
   "language": "python",
   "name": "python3"
  },
  "language_info": {
   "codemirror_mode": {
    "name": "ipython",
    "version": 3
   },
   "file_extension": ".py",
   "mimetype": "text/x-python",
   "name": "python",
   "nbconvert_exporter": "python",
   "pygments_lexer": "ipython3",
   "version": "3.11.4"
  }
 },
 "nbformat": 4,
 "nbformat_minor": 5
}
